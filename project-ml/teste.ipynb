{
 "cells": [
  {
   "cell_type": "code",
   "execution_count": 4,
   "id": "819bdbf9",
   "metadata": {},
   "outputs": [],
   "source": [
    "import language_tool_python as lt\n",
    "tool =lt.LanguageTool('pt-br')"
   ]
  },
  {
   "cell_type": "code",
   "execution_count": 5,
   "id": "f3de0fa8",
   "metadata": {},
   "outputs": [
    {
     "data": {
      "text/plain": [
       "[Match({'ruleId': 'MORFOLOGIK_RULE_PT_BR', 'message': 'Encontrado possível erro de ortografia.', 'replacements': ['diria', 'dia', 'viria', 'dita', 'dizia', 'diga', 'diva', 'dica', 'dirá', 'diriam', 'dirija', 'Diná', 'divã', 'Piriá', 'dina', 'diá', 'doía', 'Déia', 'Dina', 'IIA', 'Tiria', 'adiria', 'deia', 'dibá', 'didá', 'difa', 'dijá', 'dila', 'dima', 'dipa', 'dirca', 'dirias', 'dirima', 'dirina', 'diriri', 'dirrã', 'dirua', 'diruia', 'diruía', 'disa', 'diã', 'doira', 'dífia', 'hirirá', 'idia', 'iiá', 'piria', 'piriá', 'riria', 'tirira', 'viia'], 'offsetInContext': 6, 'context': 'Lindo diia', 'offset': 6, 'errorLength': 4, 'category': 'TYPOS', 'ruleIssueType': 'misspelling', 'sentence': 'Lindo diia'})]"
      ]
     },
     "execution_count": 5,
     "metadata": {},
     "output_type": "execute_result"
    }
   ],
   "source": [
    "txt= \"Lindo diia\"\n",
    "rev=tool.check(txt)\n",
    "rev\n"
   ]
  },
  {
   "cell_type": "code",
   "execution_count": null,
   "id": "e25bba3a",
   "metadata": {},
   "outputs": [
    {
     "ename": "TypeError",
     "evalue": "'module' object is not callable",
     "output_type": "error",
     "traceback": [
      "\u001b[31m---------------------------------------------------------------------------\u001b[39m",
      "\u001b[31mTypeError\u001b[39m                                 Traceback (most recent call last)",
      "\u001b[36mCell\u001b[39m\u001b[36m \u001b[39m\u001b[32mIn[24]\u001b[39m\u001b[32m, line 1\u001b[39m\n\u001b[32m----> \u001b[39m\u001b[32m1\u001b[39m fn=\u001b[43mlt\u001b[49m\u001b[43m(\u001b[49m\u001b[33;43m\"\u001b[39;49m\u001b[33;43mfui ao mercado\u001b[39;49m\u001b[33;43m\"\u001b[39;49m\u001b[43m)\u001b[49m\n\u001b[32m      2\u001b[39m fn\n",
      "\u001b[31mTypeError\u001b[39m: 'module' object is not callable"
     ]
    }
   ],
   "source": [
    "\n"
   ]
  },
  {
   "cell_type": "code",
   "execution_count": 14,
   "id": "83d39f35",
   "metadata": {},
   "outputs": [],
   "source": [
    "from language_tool_python.utils import classify_matches\n",
    "from language_tool_python.utils import Match\n",
    "\n",
    "\n"
   ]
  },
  {
   "cell_type": "code",
   "execution_count": 32,
   "id": "8456e25b",
   "metadata": {},
   "outputs": [
    {
     "data": {
      "text/plain": [
       "<TextStatus.FAULTY: 'faulty'>"
      ]
     },
     "execution_count": 32,
     "metadata": {},
     "output_type": "execute_result"
    }
   ],
   "source": [
    "classify_matches(rev)"
   ]
  },
  {
   "cell_type": "code",
   "execution_count": 33,
   "id": "b7d35b08",
   "metadata": {},
   "outputs": [
    {
     "data": {
      "text/plain": [
       "1"
      ]
     },
     "execution_count": 33,
     "metadata": {},
     "output_type": "execute_result"
    }
   ],
   "source": [
    "len(rev)"
   ]
  },
  {
   "cell_type": "code",
   "execution_count": 35,
   "id": "294bdf80",
   "metadata": {},
   "outputs": [
    {
     "data": {
      "text/plain": [
       "'Lindo diria'"
      ]
     },
     "execution_count": 35,
     "metadata": {},
     "output_type": "execute_result"
    }
   ],
   "source": [
    "cc=tool.correct(txt)\n",
    "cc"
   ]
  },
  {
   "cell_type": "code",
   "execution_count": null,
   "id": "fa952e37",
   "metadata": {},
   "outputs": [
    {
     "name": "stdout",
     "output_type": "stream",
     "text": [
      "Erro encontrado:\n",
      "→ Palavra/trecho incorreto: aluno\n",
      "→ Mensagem: Erro de concordância de número: “alunos”\n",
      "→ Sugestões: ['alunos']\n",
      "→ Categoria: grammar\n",
      "---\n",
      "Erro encontrado:\n",
      "→ Palavra/trecho incorreto: bastante mas\n",
      "→ Mensagem: Esta conjunção deve ser separada por vírgulas e só deve ser utilizada no início duma frase para efeitos de estilo.\n",
      "→ Sugestões: ['bastante, mas']\n",
      "→ Categoria: uncategorized\n",
      "---\n",
      "Erro encontrado:\n",
      "→ Palavra/trecho incorreto: materia\n",
      "→ Mensagem: Encontrado possível erro de ortografia.\n",
      "→ Sugestões: ['matéria', 'material', 'bateria', 'matérias', 'materna', 'manteria', 'mataria', 'maneria', 'matreira', 'mateira', 'mátria', 'ateria', 'imatéria', 'lateria', 'macéria', 'matearia', 'mateia', 'matreirá', 'matria', 'matriá', 'meteria', 'nateira', 'natária', 'vatéria', 'mate ria']\n",
      "→ Categoria: misspelling\n",
      "---\n",
      "Erro encontrado:\n",
      "→ Palavra/trecho incorreto: Eles vai\n",
      "→ Mensagem: Possível erro de concordância verbal.\n",
      "→ Sugestões: ['Eles vão', 'Ele vai']\n",
      "→ Categoria: grammar\n",
      "---\n",
      "Erro encontrado:\n",
      "→ Palavra/trecho incorreto: na\n",
      "→ Mensagem: Substitua por “à”.\n",
      "→ Sugestões: ['à']\n",
      "→ Categoria: grammar\n",
      "---\n"
     ]
    }
   ],
   "source": [
    "texto = \"Os menino vai na escola todo dia.\"\n",
    "\n",
    "# Pega os erros encontrados\n",
    "matches = tool.check(texto)\n",
    "\n",
    "# A variável `matches` contém uma lista de objetos do tipo Match\n",
    "for match in matches:\n",
    "    print(\"Erro encontrado:\")\n",
    "    print(\"→ Palavra/trecho incorreto:\", texto[match.offset : match.offset + match.errorLength])\n",
    "    print(\"→ Mensagem:\", match.message)\n",
    "    print(\"→ Sugestões:\", match.replacements)\n",
    "    print(\"→ Categoria:\", match.ruleIssueType)\n",
    "    print(\"---\")"
   ]
  }
 ],
 "metadata": {
  "kernelspec": {
   "display_name": "Python 3",
   "language": "python",
   "name": "python3"
  },
  "language_info": {
   "codemirror_mode": {
    "name": "ipython",
    "version": 3
   },
   "file_extension": ".py",
   "mimetype": "text/x-python",
   "name": "python",
   "nbconvert_exporter": "python",
   "pygments_lexer": "ipython3",
   "version": "3.13.5"
  }
 },
 "nbformat": 4,
 "nbformat_minor": 5
}
